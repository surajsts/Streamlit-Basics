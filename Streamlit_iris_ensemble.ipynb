{
 "cells": [
  {
   "cell_type": "code",
   "execution_count": 43,
   "id": "63119a44",
   "metadata": {},
   "outputs": [
    {
     "ename": "SyntaxError",
     "evalue": "invalid syntax (2381848320.py, line 17)",
     "output_type": "error",
     "traceback": [
      "\u001b[1;36m  Input \u001b[1;32mIn [43]\u001b[1;36m\u001b[0m\n\u001b[1;33m    \"sepal width(cm)\" : st.sidebar.slider(\"SEPAL WIDTH:\",2,4.4,3)\u001b[0m\n\u001b[1;37m    ^\u001b[0m\n\u001b[1;31mSyntaxError\u001b[0m\u001b[1;31m:\u001b[0m invalid syntax\n"
     ]
    }
   ],
   "source": [
    "import streamlit as st\n",
    "import pandas as pd\n",
    "import numpy as np\n",
    "from sklearn.datasets import load_iris\n",
    "from sklearn.model_selection import train_test_split\n",
    "from sklearn.ensemble import GradientBoostingClassifier\n",
    "from sklearn.metrics import accuracy_score\n",
    "\n",
    "st.write(\"\"\" **IRIS DATA SET** AND INFERENCES FROM IT\"\"\")\n",
    "\n",
    "st.sidebar.header(\"CHANGE IT ACCORDNGLY TO GET RESULTS\")\n",
    "\n",
    "def sidebarvalues():\n",
    "    \n",
    "    data={\n",
    "        \"sepal length(cm)\" : st.sidebar.slider(\"SEPAL LENGTH:\",4.3,7.9,6.0),\n",
    "        \"sepal width(cm)\" : st.sidebar.slider(\"SEPAL WIDTH:\",2.0,4.4,3.0),\n",
    "        \"petal length(cm)\" : st.sidebar.slider(\"PETAL LENGTH:\",1.0,6.9,3.0),\n",
    "        \"petal width(cm)\" : st.sidebar.slider(\"PETAL WIDTH:\",0.1,2.5,2.0)\n",
    "    }\n",
    "    \n",
    "    currval=pd.DataFrame(data,index=[0])\n",
    "    return currval\n",
    "\n",
    "df=sidebarvalues()\n",
    "\n",
    "iris=load_iris()\n",
    "table=pd.DataFrame(data=iris.data,columns=iris.feature_names,dtype='float64')\n",
    "print(iris.feature_names)\n",
    "x=iris.data\n",
    "y=iris.target\n",
    "x_train,x_test,y_train,y_test=train_test_split(x,y,random_state=0)\n",
    "rfc=GradientBoostingClassifier().fit(x_train,y_train)\n",
    "y_test1=rfc.predict(x_test)\n",
    "\n",
    "st.subheader(\"Inputs Given to the **Ensemble Model**:\")\n",
    "st.write(df)\n",
    "\n",
    "st.subheader(\"Feature Names:\")\n",
    "st.write(iris.feature_names)\n",
    "\n",
    "st.subheader(\"Target Classes:\")\n",
    "st.write(iris.target_names)\n",
    "\n",
    "st.subheader(\"Accuracy Score:\")\n",
    "st.write(accuracy_score(y_test,y_test1))\n",
    "\n",
    "st.subheader(\"Now with **User given Values**:\")\n",
    "st.write(\"class identified:\")\n",
    "st.write(iris.target_names[rfc.predict(df)])\n",
    "\n"
   ]
  },
  {
   "cell_type": "code",
   "execution_count": null,
   "id": "a05f77f8",
   "metadata": {},
   "outputs": [],
   "source": []
  }
 ],
 "metadata": {
  "kernelspec": {
   "display_name": "Python 3 (ipykernel)",
   "language": "python",
   "name": "python3"
  },
  "language_info": {
   "codemirror_mode": {
    "name": "ipython",
    "version": 3
   },
   "file_extension": ".py",
   "mimetype": "text/x-python",
   "name": "python",
   "nbconvert_exporter": "python",
   "pygments_lexer": "ipython3",
   "version": "3.9.12"
  }
 },
 "nbformat": 4,
 "nbformat_minor": 5
}
